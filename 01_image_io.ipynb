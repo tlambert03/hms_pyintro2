{
 "cells": [
  {
   "cell_type": "markdown",
   "id": "c5ffe022",
   "metadata": {},
   "source": [
    "# Loading and saving images\n",
    "\n",
    "Almost all image processing involves reading and saving image files...\n",
    "\n",
    "This tutorial covers some basic filesystem utilities and image IO (input/output) libraries\n",
    "\n"
   ]
  },
  {
   "cell_type": "markdown",
   "id": "b96f8468",
   "metadata": {},
   "source": [
    "## Filesystem handling with `pathlib`\n",
    "\n",
    "There are two ways to handle file path operations in the python standard library:\n",
    "The `os` and `os.path` modules, and the more recent object-oriented `pathlib` module.\n",
    "\n",
    "I'll be mostly using `pathlib` here as I prefer it (some arguments [here](https://treyhunner.com/2018/12/why-you-should-be-using-pathlib/)), but many of these operations\n",
    "have [corresponding tools in the `os` module](https://docs.python.org/3/library/pathlib.html#correspondence-to-tools-in-the-os-module)\\\n",
    "\n",
    "See the [pathlib documentation](https://docs.python.org/3/library/pathlib.html) for more\n"
   ]
  },
  {
   "cell_type": "code",
   "execution_count": 2,
   "id": "dbdcb5b7",
   "metadata": {},
   "outputs": [
    {
     "name": "stdout",
     "output_type": "stream",
     "text": [
      "The current directory is /Users/talley/Dropbox (HMS)/Python/hms_pyintro2\n",
      "\n",
      "some data subdirectory: data/subdirectory\n"
     ]
    }
   ],
   "source": [
    "from pathlib import Path\n",
    "\n",
    "# get current working directory with `cwd`\n",
    "cur_dir = Path.cwd()\n",
    "print(f\"The current directory is {cur_dir}\\n\")\n",
    "\n",
    "# specify a relative or absolute directory\n",
    "data_dir = Path(\"data\")\n",
    "\n",
    "# join paths using the division operator\n",
    "# works on both windows and mac/linux\n",
    "# note:  a path doesn't need to exist to \"refer\" to it\n",
    "sub_dir = data_dir / \"subdirectory\"\n",
    "print(\"some data subdirectory:\", sub_dir)"
   ]
  },
  {
   "cell_type": "markdown",
   "id": "631c5a0b-7974-44d2-a442-2956b217c209",
   "metadata": {},
   "source": [
    "### `Path` objects have lots of useful methods"
   ]
  },
  {
   "cell_type": "code",
   "execution_count": 3,
   "id": "66f08539-cf5c-429e-9d42-a5be95d8e770",
   "metadata": {},
   "outputs": [
    {
     "name": "stdout",
     "output_type": "stream",
     "text": [
      "subdirectory exists?: False\n",
      "\n",
      "subdirectory exists?: True\n",
      "\n",
      "The files in the data directory are [PosixPath('data/subdirectory'), PosixPath('data/mm_ex_w2561.TIF'), PosixPath('data/mm_ex.nd'), PosixPath('data/.ipynb_checkpoints'), PosixPath('data/mm_ex_w1488.TIF')]\n",
      "\n",
      "Tiff files in the data directory: [PosixPath('data/mm_ex_w2561.TIF'), PosixPath('data/mm_ex_w1488.TIF')]\n",
      "\n",
      "subdirectory exists?: False\n",
      "\n"
     ]
    }
   ],
   "source": [
    "# check if something exists with `exists()`:\n",
    "print(f\"subdirectory exists?: {sub_dir.exists()}\\n\")\n",
    "\n",
    "# create a subdirectory with `mkdir`\n",
    "sub_dir.mkdir(exist_ok=True)\n",
    "print(f\"subdirectory exists?: {sub_dir.exists()}\\n\")\n",
    "\n",
    "# iterate over all files in a specific path with `listdir`\n",
    "print(f\"The files in the data directory are {list(data_dir.iterdir())}\\n\")\n",
    "\n",
    "# use .glob to find all files matching a specific pattern, with \"*\" as wildcard\n",
    "tiff_files = data_dir.glob(\"*.TIF\")\n",
    "print(f\"Tiff files in the data directory: {list(tiff_files)}\\n\")\n",
    "\n",
    "# tricky sidenote:  `glob(...)` returns a generator that gets \"consumed\" each\n",
    "# time you use it, so make sure to either recreate the generator each time,\n",
    "# or store the output in a list.\n",
    "\n",
    "# remove files with `.unlink` and folders with `.rmdir`\n",
    "sub_dir.rmdir()\n",
    "print(f\"subdirectory exists?: {sub_dir.exists()}\\n\")\n"
   ]
  },
  {
   "cell_type": "markdown",
   "id": "97b03f47-20a8-449d-8328-a3cfe95fd136",
   "metadata": {},
   "source": [
    "### Read text files into python\n",
    "\n",
    "Now that we know how to reference various locations on the disk, lets read something into python"
   ]
  },
  {
   "cell_type": "code",
   "execution_count": 4,
   "id": "ad68d100-5467-4785-a3b0-7e1bb3d43c75",
   "metadata": {},
   "outputs": [
    {
     "name": "stdout",
     "output_type": "stream",
     "text": [
      "\"NDInfoFile\", Version 2.0\n",
      "\"Description\", Nikon Imaging Center - Station 2: Lucille\n",
      "\"StartTime1\", 20210623 08:22:39\n",
      "\"DoTimelapse\", FALSE\n",
      "\"NTimePoints\", 1\n",
      "\"DoStage\", FALSE\n",
      "\"DoWave\", TRUE\n",
      "\"NWavelengths\", 2\n",
      "\"WaveName1\", \"488\"\n",
      "\"WaveDoZ1\", TRUE\n",
      "\"WaveName2\", \"561\"\n",
      "\"WaveDoZ2\", TRUE\n",
      "\"DoZSeries\", TRUE\n",
      "\"NZSteps\", 7\n",
      "\"ZStepSize\", 0\n",
      "\"WaveInFileName\", TRUE\n",
      "\"NEvents\", 0\n",
      "\"EndFile\"\n",
      "\n"
     ]
    }
   ],
   "source": [
    "# read text file using the builtin `open` function\n",
    "# note, we use the `with ...` context manager so that the file\n",
    "# is automatically closed when we are done reading it:\n",
    "\n",
    "with open(data_dir / 'mm_ex.nd') as file:\n",
    "    text = file.read()\n",
    "\n",
    "print(text)"
   ]
  },
  {
   "cell_type": "code",
   "execution_count": 5,
   "id": "636c5cb8-94c7-4324-90d9-bcafa45ec997",
   "metadata": {},
   "outputs": [
    {
     "name": "stdout",
     "output_type": "stream",
     "text": [
      "The texts are the same: True\n"
     ]
    }
   ],
   "source": [
    "# Path objects from the pathlib module have a convenient function for reading text\n",
    "ptext = (data_dir / 'mm_ex.nd').read_text()\n",
    "print('The texts are the same:', text == ptext)"
   ]
  },
  {
   "cell_type": "markdown",
   "id": "ab312be1-914a-44b7-8c7e-b139b70ec00c",
   "metadata": {},
   "source": [
    "### Read image data into python\n",
    "\n",
    "Here's where things start to get a little confusing, because there are often many different ways to do the same thing (some of the file IO libraries are actually just calling functions from another library under the hood!).  I'll cover a few of the most popular libraries, but I encourage you to explore the options for your specific file types.\n",
    "\n",
    "#### Tiffs...\n",
    "Let's start by trying to load the `mm_ex_w1488.TIF` file in the data directory.\n",
    "This is exactly how the file came off the microscope (with metamorph), the all caps `.TIF` extension actually poses some challenges"
   ]
  },
  {
   "cell_type": "markdown",
   "id": "eb0aa5a6-4061-460a-af46-8c131b9c3f72",
   "metadata": {},
   "source": [
    "#### tifffile\n",
    "\n",
    "`tifffile` is probably the de-facto scientific tiff file reader, and many of the `imread` functions from \"popular\" libraries actually call `tifffile` under the hood."
   ]
  },
  {
   "cell_type": "code",
   "execution_count": 6,
   "id": "659312b7-c7b6-4ec3-bfb6-9e6ed513b9be",
   "metadata": {},
   "outputs": [
    {
     "name": "stdout",
     "output_type": "stream",
     "text": [
      "<class 'numpy.ndarray'> (7, 302, 302) uint16\n",
      "[[[105 101 103 ... 102 104 101]\n",
      "  [101 100 104 ... 102 106 105]\n",
      "  [103 105 102 ... 102 102 102]\n",
      "  ...\n",
      "  [210 216 209 ... 139 145 142]\n",
      "  [225 237 229 ... 144 140 151]\n",
      "  [245 242 249 ... 141 154 152]]\n",
      "\n",
      " [[103 103 103 ... 109  99 103]\n",
      "  [106  98 102 ... 106 104 103]\n",
      "  [ 97 101 104 ... 102  97 104]\n",
      "  ...\n",
      "  [272 292 319 ... 147 149 148]\n",
      "  [316 363 360 ... 152 157 155]\n",
      "  [358 366 356 ... 155 157 154]]\n",
      "\n",
      " [[100 102 102 ... 106  98 107]\n",
      "  [100 102  98 ... 108 102 102]\n",
      "  [103 100 103 ... 105 105 101]\n",
      "  ...\n",
      "  [393 414 497 ... 177 182 179]\n",
      "  [500 622 772 ... 189 191 212]\n",
      "  [705 830 920 ... 194 201 211]]\n",
      "\n",
      " ...\n",
      "\n",
      " [[100 107 101 ... 109 105 104]\n",
      "  [106 103 104 ... 107 109 102]\n",
      "  [106 106 104 ... 108 103 101]\n",
      "  ...\n",
      "  [241 289 332 ... 182 192 197]\n",
      "  [321 370 383 ... 210 221 242]\n",
      "  [359 374 385 ... 218 236 230]]\n",
      "\n",
      " [[102  99 108 ... 108  99 105]\n",
      "  [102 100 107 ... 103 104 108]\n",
      "  [106 102  98 ... 103 108 107]\n",
      "  ...\n",
      "  [178 189 195 ... 148 145 157]\n",
      "  [193 197 198 ... 143 149 153]\n",
      "  [195 199 212 ... 150 153 150]]\n",
      "\n",
      " [[103 107 100 ... 106 103 106]\n",
      "  [102 104 106 ... 102 106 103]\n",
      "  [106 106 106 ... 103 106 108]\n",
      "  ...\n",
      "  [151 154 153 ... 135 133 138]\n",
      "  [150 160 154 ... 133 128 134]\n",
      "  [164 161 164 ... 136 131 139]]]\n"
     ]
    }
   ],
   "source": [
    "import tifffile\n",
    "\n",
    "img = tifffile.imread(data_dir / 'mm_ex_w1488.TIF')\n",
    "print(type(img), img.shape, img.dtype)\n",
    "print(img)\n",
    "\n",
    "# This is correct: our image is a 7-plane, 302 x 302 image"
   ]
  },
  {
   "cell_type": "markdown",
   "id": "c484b571-50d2-4348-9fb6-24c476eaffa1",
   "metadata": {},
   "source": [
    "#### imageio\n",
    "\n",
    "`imageio` is popular library with support for a *ton* of [image formats](https://imageio.readthedocs.io/en/stable/formats.html).  It will also use `tifffile` under the hood for tiff files, but one must be careful when using `imageio.imread` as it will only read a single plane.  `volread` is capable of reading a tiff stack."
   ]
  },
  {
   "cell_type": "code",
   "execution_count": 7,
   "id": "6ccfab19-6438-4513-a629-76e46f8e81c6",
   "metadata": {},
   "outputs": [
    {
     "name": "stdout",
     "output_type": "stream",
     "text": [
      "<class 'imageio.core.util.Array'> (302, 302) uint16\n",
      "<class 'imageio.core.util.Array'> (7, 302, 302) uint16\n"
     ]
    }
   ],
   "source": [
    "import imageio\n",
    "\n",
    "# careful!\n",
    "img = imageio.imread(data_dir / 'mm_ex_w1488.TIF')\n",
    "print(type(img), img.shape, img.dtype)\n",
    "\n",
    "# use volread for 3D tiff data\n",
    "img = imageio.volread(data_dir / 'mm_ex_w1488.TIF')\n",
    "print(type(img), img.shape, img.dtype)"
   ]
  },
  {
   "cell_type": "markdown",
   "id": "76836efe-4b3d-4dcf-a87a-73723907425d",
   "metadata": {},
   "source": [
    "#### scikit-image\n"
   ]
  },
  {
   "cell_type": "code",
   "execution_count": 8,
   "id": "dea03d6b-e64f-4bcc-b38d-25cf2311d050",
   "metadata": {},
   "outputs": [
    {
     "name": "stdout",
     "output_type": "stream",
     "text": [
      "io.imread\n",
      "<class 'numpy.ndarray'> (302, 302) uint16\n"
     ]
    }
   ],
   "source": [
    "from skimage import io\n",
    "\n",
    "# careful!\n",
    "img = io.imread(data_dir / 'mm_ex_w1488.TIF')\n",
    "print('io.imread')\n",
    "print(type(img), img.shape, img.dtype)"
   ]
  },
  {
   "cell_type": "markdown",
   "id": "608560a4-f04d-490e-8cce-32fb7ebe7eff",
   "metadata": {},
   "source": [
    "it didn't work!  why not?\n",
    "\n",
    "scikit-image wraps various other image readers (like `imagio` and `tifffile`) in its `io` module and calls them \"plugins\".  The [docstring](https://scikit-image.org/docs/dev/api/skimage.io.html#imread) of the skimage.io.imread function tells us that the `imread` function accepts a \"plugin\" parameter:\n",
    "\n",
    "\n",
    "> Name of plugin to use. By default, the different plugins are tried (starting with imageio) until a suitable candidate is found. If not given and fname is a tiff file, the tifffile plugin will be used.\n",
    "\n",
    "presumably, the capital `.TIF` extension caused skimage to use the `imageio` library which we already saw only reads a single plane (unless you use volread)\n",
    "\n",
    "let's try explicitly requesting the `tifffile` plugin"
   ]
  },
  {
   "cell_type": "code",
   "execution_count": 9,
   "id": "2c86934f-d203-4aa1-8023-716a73cc0538",
   "metadata": {},
   "outputs": [
    {
     "name": "stdout",
     "output_type": "stream",
     "text": [
      "\n",
      "io.imread(..., plugin=\"tifffile\")\n",
      "<class 'numpy.ndarray'> (7, 302, 302) uint16\n"
     ]
    }
   ],
   "source": [
    "img = io.imread(data_dir / 'mm_ex_w1488.TIF', plugin='tifffile')\n",
    "print()\n",
    "print('io.imread(..., plugin=\"tifffile\")')\n",
    "print(type(img), img.shape, img.dtype)"
   ]
  }
 ],
 "metadata": {
  "kernelspec": {
   "display_name": "Python 3",
   "language": "python",
   "name": "python3"
  },
  "language_info": {
   "codemirror_mode": {
    "name": "ipython",
    "version": 3
   },
   "file_extension": ".py",
   "mimetype": "text/x-python",
   "name": "python",
   "nbconvert_exporter": "python",
   "pygments_lexer": "ipython3",
   "version": "3.9.5"
  }
 },
 "nbformat": 4,
 "nbformat_minor": 5
}
