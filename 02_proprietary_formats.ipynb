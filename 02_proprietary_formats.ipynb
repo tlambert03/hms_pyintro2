{
 "cells": [
  {
   "cell_type": "markdown",
   "id": "7b913836",
   "metadata": {},
   "source": [
    "# Reading proprietary image formats (here, ND2) in python\n",
    "\n",
    "Anyone who has used Fiji has probably come to know and love the Bioformats plugin, which allows Fiji to read in pretty much any of the proprietary image formats from leica, olympus, zeiss, nikon, etc...  \n",
    "\n",
    "While we *can* directly use bioformats in python code using packages such as [python-bioformats](https://pythonhosted.org/python-bioformats) or [pims](http://soft-matter.github.io/pims/v0.5/bioformats.html) (shown below), because bioformats itself is written in Java, it means that we must have the java virtual machine installed and running in the background of our python process (that's what the aforementioned packages do).  While that's fine (it may be your only option!), I generally prefer to use \"pure python\" packages when available – meaning the code that reads the file header and loads the data from the file is written entirely in python (or sometimes C), and doesn't require loading bioformats in the background, which can be slower, and typically comes with an \"unpythonic\" user interface.\n",
    "\n",
    "We saw an example of using `tifffile` in the last segment, but that's a pretty easy case.  Here we will look at various solutions for reading in a nikon nd2 file.\n",
    "\n",
    "### using `nd2reader`\n",
    "\n",
    "https://github.com/rbnvrw/nd2reader"
   ]
  },
  {
   "cell_type": "code",
   "execution_count": 21,
   "id": "f598eee6",
   "metadata": {},
   "outputs": [
    {
     "name": "stdout",
     "output_type": "stream",
     "text": [
      "<FramesSequenceND>\n",
      "Axes: 5\n",
      "Axis 'x' size: 256\n",
      "Axis 'y' size: 256\n",
      "Axis 'c' size: 2\n",
      "Axis 't' size: 1\n",
      "Axis 'z' size: 5\n",
      "Pixel Datatype: <class 'numpy.float64'>\n"
     ]
    }
   ],
   "source": [
    "import numpy as np\n",
    "from nd2reader import ND2Reader as nd2r\n",
    "\n",
    "filename = 'data/elements_ex.nd2'\n",
    "images = nd2r(filename)\n",
    "print(images)\n"
   ]
  },
  {
   "cell_type": "code",
   "execution_count": 22,
   "id": "e8faa45b",
   "metadata": {},
   "outputs": [
    {
     "data": {
      "text/plain": [
       "{'height': 256,\n",
       " 'width': 256,\n",
       " 'date': datetime.datetime(2021, 6, 23, 13, 17, 17),\n",
       " 'fields_of_view': [0],\n",
       " 'frames': [0],\n",
       " 'z_levels': range(0, 5),\n",
       " 'z_coordinates': [2283.1, 2284.04, 2284.88, 2285.84, 2286.7400000000002],\n",
       " 'total_images_per_channel': 5,\n",
       " 'channels': ['Widefield Dual Green', 'Widefield Dual Red'],\n",
       " 'pixel_microns': 0.325,\n",
       " 'num_frames': 1,\n",
       " 'experiment': {'description': 'ND Acquisition', 'loops': []},\n",
       " 'events': []}"
      ]
     },
     "execution_count": 22,
     "metadata": {},
     "output_type": "execute_result"
    }
   ],
   "source": [
    "# includes metadata\n",
    "images.metadata"
   ]
  },
  {
   "cell_type": "markdown",
   "id": "55a37913",
   "metadata": {},
   "source": [
    "### using `pims_nd2`\n",
    "\n",
    "https://github.com/soft-matter/pims_nd2"
   ]
  },
  {
   "cell_type": "code",
   "execution_count": 33,
   "id": "8a4859d8",
   "metadata": {},
   "outputs": [
    {
     "name": "stdout",
     "output_type": "stream",
     "text": [
      "<FramesSequenceND>\n",
      "Axes: 4\n",
      "Axis 'x' size: 256\n",
      "Axis 'y' size: 256\n",
      "Axis 'c' size: 2\n",
      "Axis 'z' size: 5\n",
      "Pixel Datatype: <class 'numpy.uint16'>\n"
     ]
    }
   ],
   "source": [
    "from pims import ND2Reader_SDK as pnd2\n",
    "\n",
    "\n",
    "images = pnd2(filename)\n",
    "print(images)"
   ]
  },
  {
   "cell_type": "code",
   "execution_count": 34,
   "id": "21386bee",
   "metadata": {},
   "outputs": [
    {
     "data": {
      "text/plain": [
       "{'width': 256,\n",
       " 'width_bytes': 1024,\n",
       " 'height': 256,\n",
       " 'components': 2,\n",
       " 'bitsize_memory': 16,\n",
       " 'bitsize_significant': 16,\n",
       " 'sequence_count': 5,\n",
       " 'tile_width': 256,\n",
       " 'tile_height': 256,\n",
       " 'compression': None,\n",
       " 'compression_quality': 4294967197,\n",
       " 'plane_count': 2,\n",
       " 'angle': -0.016189802964737033,\n",
       " 'calibration_um': 0.325,\n",
       " 'time_start_jdn': 2459389.2203407986,\n",
       " 'time_start': datetime.datetime(2021, 6, 23, 13, 17, 17, 445000),\n",
       " 'time_start_utc': datetime.datetime(2021, 6, 23, 17, 17, 17, 445000),\n",
       " 'objective': 'Plan Apo λ 20x Ph2 DM',\n",
       " 'magnification': -1.0,\n",
       " 'NA': 0.75,\n",
       " 'refractive_index1': 1.0,\n",
       " 'refractive_index2': 1.0,\n",
       " 'pinhole': 0.0,\n",
       " 'zoom': 1.0,\n",
       " 'projective_mag': -1.0,\n",
       " 'image_type': 'normal',\n",
       " 'z_home': 2,\n",
       " 'frame_rate': None,\n",
       " 'plane_0': {'components': 1,\n",
       "  'rgb_value': (0.21176470588235294, 1.0, 0.0),\n",
       "  'name': 'Widefield Dual Green',\n",
       "  'oc': 'Widefield Dual Green',\n",
       "  'emission_nm': 525.0},\n",
       " 'plane_1': {'components': 1,\n",
       "  'rgb_value': (0.996078431372549, 0.0, 0.0),\n",
       "  'name': 'Widefield Dual Red',\n",
       "  'oc': '',\n",
       "  'emission_nm': 641.0}}"
      ]
     },
     "execution_count": 34,
     "metadata": {},
     "output_type": "execute_result"
    }
   ],
   "source": [
    "images.metadata"
   ]
  },
  {
   "cell_type": "markdown",
   "id": "95bea1f9",
   "metadata": {},
   "source": [
    "### using `pims-bioformats`\n",
    "\n",
    "pims also comes with a module capable of interfacing with the java-based bioformats library\n",
    "\n",
    "http://soft-matter.github.io/pims/v0.5/bioformats.html\n",
    "\n",
    "... but we have to additionally install the [`Jpype`](https://github.com/jpype-project/jpype) library that provides access to java from within python.  (It's included in the `requirements.txt` file in this repo, so you may already have it)."
   ]
  },
  {
   "cell_type": "code",
   "execution_count": 35,
   "id": "3a720f35",
   "metadata": {},
   "outputs": [],
   "source": [
    "from pims.bioformats import BioformatsReader"
   ]
  },
  {
   "cell_type": "code",
   "execution_count": 36,
   "id": "4f31aad6",
   "metadata": {},
   "outputs": [
    {
     "data": {
      "text/plain": [
       "<FramesSequenceND>\n",
       "Axes: 4\n",
       "Axis 'x' size: 256\n",
       "Axis 'y' size: 256\n",
       "Axis 'c' size: 2\n",
       "Axis 'z' size: 5\n",
       "Pixel Datatype: <u2"
      ]
     },
     "execution_count": 36,
     "metadata": {},
     "output_type": "execute_result"
    }
   ],
   "source": [
    "reader = BioformatsReader(filename)  # this will download the bioformats .jar if it hasn't already\n",
    "reader"
   ]
  },
  {
   "cell_type": "code",
   "execution_count": 37,
   "id": "f386b4bc",
   "metadata": {},
   "outputs": [
    {
     "name": "stdout",
     "output_type": "stream",
     "text": [
      "Total number of images: 1\n",
      "Dimensions for image 0\n",
      "\tShape: 256 x 256 x 5\n",
      "\tDxyz:  0.33 x 0.33 x 0.90\n"
     ]
    }
   ],
   "source": [
    "# OME metadata is available, but this time you have to use the OME API:\n",
    "# https://www-legacy.openmicroscopy.org/site/support/bio-formats5.1/developers/cpp/tutorial.html\n",
    "meta = reader.metadata\n",
    "\n",
    "image_count = meta.ImageCount()\n",
    "print('Total number of images: {}'.format(image_count))\n",
    "\n",
    "for i in range(image_count):\n",
    "    print('Dimensions for image {}'.format(i))\n",
    "    shape = (meta.PixelsSizeX(i), meta.PixelsSizeY(i), meta.PixelsSizeZ(i))\n",
    "    dxyz = (meta.PixelsPhysicalSizeX(i),\n",
    "            meta.PixelsPhysicalSizeY(i),\n",
    "            meta.PixelsPhysicalSizeZ(i))\n",
    "    print('\\tShape: {} x {} x {}'.format(*shape))\n",
    "    print('\\tDxyz:  {:2.2f} x {:2.2f} x {:2.2f}'.format(*dxyz))"
   ]
  }
 ],
 "metadata": {
  "interpreter": {
   "hash": "b7f4fda08b1781c1138a966029588357b4c0f31d80378d1afceec3ba8b6dc29a"
  },
  "kernelspec": {
   "display_name": "Python 3",
   "language": "python",
   "name": "python3"
  },
  "language_info": {
   "codemirror_mode": {
    "name": "ipython",
    "version": 3
   },
   "file_extension": ".py",
   "mimetype": "text/x-python",
   "name": "python",
   "nbconvert_exporter": "python",
   "pygments_lexer": "ipython3",
   "version": "3.9.5"
  }
 },
 "nbformat": 4,
 "nbformat_minor": 5
}
