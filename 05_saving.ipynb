{
 "cells": [
  {
   "cell_type": "markdown",
   "id": "cdf41885-eeed-4baa-b769-5fac96ac1ff9",
   "metadata": {},
   "source": [
    "# Saving images\n",
    "\n",
    "Often, you'll want to save some image processing results...  There's many ways to do it, and it depends on how you'd like to reopen those files later."
   ]
  },
  {
   "cell_type": "markdown",
   "id": "5d16a271-f02f-493a-8af5-e393881e53cf",
   "metadata": {},
   "source": [
    "## save with numpy\n",
    "\n",
    "If you intend to simply reopen the array data with numpy, you can use `np.save`"
   ]
  },
  {
   "cell_type": "code",
   "execution_count": 45,
   "id": "6014cebd-0019-4259-973d-5f07e0a62841",
   "metadata": {},
   "outputs": [
    {
     "data": {
      "text/plain": [
       "array([[ 0,  1,  2,  3],\n",
       "       [ 4,  5,  6,  7],\n",
       "       [ 8,  9, 10, 11],\n",
       "       [12, 13, 14, 15],\n",
       "       [16, 17, 18, 19]])"
      ]
     },
     "execution_count": 45,
     "metadata": {},
     "output_type": "execute_result"
    }
   ],
   "source": [
    "import numpy as np\n",
    "\n",
    "arr = np.arange(20).reshape(5,4)\n",
    "arr"
   ]
  },
  {
   "cell_type": "code",
   "execution_count": 46,
   "id": "9a8b1182-394b-4b77-bb9e-1d529e10ce92",
   "metadata": {},
   "outputs": [
    {
     "data": {
      "text/plain": [
       "array([[ True,  True,  True,  True],\n",
       "       [ True,  True,  True,  True],\n",
       "       [ True,  True,  True,  True],\n",
       "       [ True,  True,  True,  True],\n",
       "       [ True,  True,  True,  True]])"
      ]
     },
     "execution_count": 46,
     "metadata": {},
     "output_type": "execute_result"
    }
   ],
   "source": [
    "np.save('myarray.npy', arr)\n",
    "arr2 = np.load('myarray.npy')\n",
    "arr2 == arr"
   ]
  },
  {
   "cell_type": "markdown",
   "id": "b5997a4a-eaee-4e5e-8cdd-66e71d3e76eb",
   "metadata": {},
   "source": [
    "## save with tifffile\n",
    "\n",
    "tifffile provides a very handy imsave function.  It can even writes ImageJ-readable metadata"
   ]
  },
  {
   "cell_type": "code",
   "execution_count": 47,
   "id": "d16b2c8a-9d92-447b-8fb3-1771a67bb8d5",
   "metadata": {},
   "outputs": [
    {
     "data": {
      "text/plain": [
       "\u001b[0;31mSignature:\u001b[0m \u001b[0mimsave\u001b[0m\u001b[0;34m(\u001b[0m\u001b[0mfile\u001b[0m\u001b[0;34m,\u001b[0m \u001b[0mdata\u001b[0m\u001b[0;34m=\u001b[0m\u001b[0;32mNone\u001b[0m\u001b[0;34m,\u001b[0m \u001b[0mshape\u001b[0m\u001b[0;34m=\u001b[0m\u001b[0;32mNone\u001b[0m\u001b[0;34m,\u001b[0m \u001b[0mdtype\u001b[0m\u001b[0;34m=\u001b[0m\u001b[0;32mNone\u001b[0m\u001b[0;34m,\u001b[0m \u001b[0;34m**\u001b[0m\u001b[0mkwargs\u001b[0m\u001b[0;34m)\u001b[0m\u001b[0;34m\u001b[0m\u001b[0;34m\u001b[0m\u001b[0m\n",
       "\u001b[0;31mDocstring:\u001b[0m\n",
       "Write numpy array to TIFF file.\n",
       "\n",
       "Refer to the TiffWriter class and its write function for documentation.\n",
       "\n",
       "A BigTIFF file is created if the data's size is larger than 4 GB minus\n",
       "32 MB (for metadata), and 'bigtiff' is not specified, and 'imagej' or\n",
       "'truncate' are not enabled.\n",
       "\n",
       "Parameters\n",
       "----------\n",
       "file : str, path-like, or binary stream\n",
       "    File name or writable binary stream, such as an open file or BytesIO.\n",
       "data : array-like\n",
       "    Input image. The last dimensions are assumed to be image depth,\n",
       "    length, width, and samples.\n",
       "    If None, an empty array of the specified shape and dtype is\n",
       "    saved to file.\n",
       "    Unless 'byteorder' is specified in 'kwargs', the TIFF file byte order\n",
       "    is determined from the data's dtype or the dtype argument.\n",
       "shape : tuple\n",
       "    If 'data' is None, shape of an empty array to save to the file.\n",
       "dtype : numpy.dtype\n",
       "    If 'data' is None, datatype of an empty array to save to the file.\n",
       "kwargs : dict\n",
       "    Parameters 'append', 'byteorder', 'bigtiff', 'imagej', and 'ome',\n",
       "    are passed to TiffWriter().\n",
       "    Other parameters are passed to TiffWriter.write().\n",
       "\n",
       "Returns\n",
       "-------\n",
       "offset, bytecount : tuple or None\n",
       "    If the 'returnoffset' argument is True and the image data are written\n",
       "    contiguously, return offset and bytecount of image data in the file.\n",
       "\u001b[0;31mFile:\u001b[0m      ~/miniconda3/envs/imgproc/lib/python3.9/site-packages/tifffile/tifffile.py\n",
       "\u001b[0;31mType:\u001b[0m      function\n"
      ]
     },
     "metadata": {},
     "output_type": "display_data"
    }
   ],
   "source": [
    "from tifffile import imsave\n",
    "\n",
    "imsave?"
   ]
  },
  {
   "cell_type": "code",
   "execution_count": 48,
   "id": "ba7b89db-efca-4c69-8dab-02ad8983a64e",
   "metadata": {},
   "outputs": [
    {
     "ename": "ValueError",
     "evalue": "ImageJ does not support data type 'l'",
     "output_type": "error",
     "traceback": [
      "\u001b[0;31m---------------------------------------------------------------------------\u001b[0m",
      "\u001b[0;31mValueError\u001b[0m                                Traceback (most recent call last)",
      "\u001b[0;32m<ipython-input-48-34a2abe894c1>\u001b[0m in \u001b[0;36m<module>\u001b[0;34m\u001b[0m\n\u001b[1;32m      1\u001b[0m \u001b[0;31m# note however, you may need to change the datatype!\u001b[0m\u001b[0;34m\u001b[0m\u001b[0;34m\u001b[0m\u001b[0;34m\u001b[0m\u001b[0m\n\u001b[1;32m      2\u001b[0m \u001b[0;31m# ImageJ doesn't support double-precision (64 bit) float\u001b[0m\u001b[0;34m\u001b[0m\u001b[0;34m\u001b[0m\u001b[0;34m\u001b[0m\u001b[0m\n\u001b[0;32m----> 3\u001b[0;31m \u001b[0mimsave\u001b[0m\u001b[0;34m(\u001b[0m\u001b[0;34m'myarray.tif'\u001b[0m\u001b[0;34m,\u001b[0m \u001b[0marr\u001b[0m\u001b[0;34m,\u001b[0m \u001b[0mimagej\u001b[0m\u001b[0;34m=\u001b[0m\u001b[0;32mTrue\u001b[0m\u001b[0;34m)\u001b[0m\u001b[0;34m\u001b[0m\u001b[0;34m\u001b[0m\u001b[0m\n\u001b[0m",
      "\u001b[0;32m~/miniconda3/envs/imgproc/lib/python3.9/site-packages/tifffile/tifffile.py\u001b[0m in \u001b[0;36mimwrite\u001b[0;34m(file, data, shape, dtype, **kwargs)\u001b[0m\n\u001b[1;32m    883\u001b[0m \u001b[0;34m\u001b[0m\u001b[0m\n\u001b[1;32m    884\u001b[0m     \u001b[0;32mwith\u001b[0m \u001b[0mTiffWriter\u001b[0m\u001b[0;34m(\u001b[0m\u001b[0mfile\u001b[0m\u001b[0;34m,\u001b[0m \u001b[0;34m**\u001b[0m\u001b[0mtifargs\u001b[0m\u001b[0;34m)\u001b[0m \u001b[0;32mas\u001b[0m \u001b[0mtif\u001b[0m\u001b[0;34m:\u001b[0m\u001b[0;34m\u001b[0m\u001b[0;34m\u001b[0m\u001b[0m\n\u001b[0;32m--> 885\u001b[0;31m         \u001b[0mresult\u001b[0m \u001b[0;34m=\u001b[0m \u001b[0mtif\u001b[0m\u001b[0;34m.\u001b[0m\u001b[0mwrite\u001b[0m\u001b[0;34m(\u001b[0m\u001b[0mdata\u001b[0m\u001b[0;34m,\u001b[0m \u001b[0mshape\u001b[0m\u001b[0;34m,\u001b[0m \u001b[0mdtype\u001b[0m\u001b[0;34m,\u001b[0m \u001b[0;34m**\u001b[0m\u001b[0mkwargs\u001b[0m\u001b[0;34m)\u001b[0m\u001b[0;34m\u001b[0m\u001b[0;34m\u001b[0m\u001b[0m\n\u001b[0m\u001b[1;32m    886\u001b[0m     \u001b[0;32mreturn\u001b[0m \u001b[0mresult\u001b[0m\u001b[0;34m\u001b[0m\u001b[0;34m\u001b[0m\u001b[0m\n\u001b[1;32m    887\u001b[0m \u001b[0;34m\u001b[0m\u001b[0m\n",
      "\u001b[0;32m~/miniconda3/envs/imgproc/lib/python3.9/site-packages/tifffile/tifffile.py\u001b[0m in \u001b[0;36mwrite\u001b[0;34m(self, data, shape, dtype, photometric, planarconfig, extrasamples, volumetric, tile, contiguous, truncate, align, rowsperstrip, bitspersample, compression, predictor, subsampling, jpegtables, colormap, description, datetime, resolution, subfiletype, software, subifds, metadata, extratags, returnoffset, ijmetadata, compress)\u001b[0m\n\u001b[1;32m   1676\u001b[0m                 \u001b[0mdescription\u001b[0m \u001b[0;34m=\u001b[0m \u001b[0;32mNone\u001b[0m\u001b[0;34m\u001b[0m\u001b[0;34m\u001b[0m\u001b[0m\n\u001b[1;32m   1677\u001b[0m             \u001b[0;32mif\u001b[0m \u001b[0mdatadtypechar\u001b[0m \u001b[0;32mnot\u001b[0m \u001b[0;32min\u001b[0m \u001b[0;34m'BHhf'\u001b[0m\u001b[0;34m:\u001b[0m\u001b[0;34m\u001b[0m\u001b[0;34m\u001b[0m\u001b[0m\n\u001b[0;32m-> 1678\u001b[0;31m                 raise ValueError(\n\u001b[0m\u001b[1;32m   1679\u001b[0m                     \u001b[0;34mf'ImageJ does not support data type {datadtypechar!r}'\u001b[0m\u001b[0;34m\u001b[0m\u001b[0;34m\u001b[0m\u001b[0m\n\u001b[1;32m   1680\u001b[0m                 )\n",
      "\u001b[0;31mValueError\u001b[0m: ImageJ does not support data type 'l'"
     ]
    }
   ],
   "source": [
    "# note however, you may need to change the datatype!\n",
    "# ImageJ doesn't support double-precision (64 bit) float\n",
    "imsave('myarray.tif', arr, imagej=True)"
   ]
  },
  {
   "cell_type": "code",
   "execution_count": null,
   "id": "5ae279f5-67df-4c74-9b5e-cf08f96df618",
   "metadata": {},
   "outputs": [],
   "source": [
    "# better:\n",
    "imsave('myarray.tif', arr.astype('float32'), imagej=True)"
   ]
  },
  {
   "cell_type": "markdown",
   "id": "d94576c1-3486-4c6b-8a05-dd6bc36a7481",
   "metadata": {},
   "source": [
    "## save with napari\n",
    "\n",
    "napari has some built-in saving abilities, which can also be extended with plugins:"
   ]
  },
  {
   "cell_type": "code",
   "execution_count": 53,
   "id": "ce613012-4d6a-4c51-914c-7ebf1f14378a",
   "metadata": {},
   "outputs": [],
   "source": [
    "import napari\n",
    "\n",
    "viewer = napari.view_path(\"data/mm_ex_w1488.TIF\")\n",
    "viewer.layers.save('from_napari.tif')\n",
    "viewer.close()"
   ]
  },
  {
   "cell_type": "code",
   "execution_count": 54,
   "id": "79254212-c4d1-43e2-a0c1-9a85eca318e6",
   "metadata": {},
   "outputs": [],
   "source": [
    "# cleanup\n",
    "from pathlib import Path\n",
    "\n",
    "for fname in (\"myarray.npy\", \"myarray.tif\", \"from_napari.tif\"):\n",
    "    Path(fname).unlink(missing_ok=True)"
   ]
  },
  {
   "cell_type": "code",
   "execution_count": null,
   "id": "f1757583-c4a9-4c61-836b-c9c826580652",
   "metadata": {},
   "outputs": [],
   "source": []
  }
 ],
 "metadata": {
  "kernelspec": {
   "display_name": "Python 3",
   "language": "python",
   "name": "python3"
  },
  "language_info": {
   "codemirror_mode": {
    "name": "ipython",
    "version": 3
   },
   "file_extension": ".py",
   "mimetype": "text/x-python",
   "name": "python",
   "nbconvert_exporter": "python",
   "pygments_lexer": "ipython3",
   "version": "3.9.5"
  }
 },
 "nbformat": 4,
 "nbformat_minor": 5
}
